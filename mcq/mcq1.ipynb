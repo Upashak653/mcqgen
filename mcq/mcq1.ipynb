{
 "cells": [
  {
   "cell_type": "code",
   "execution_count": 113,
   "id": "4c64f7b2",
   "metadata": {},
   "outputs": [],
   "source": [
    "import os\n",
    "import json\n",
    "import pandas as pd\n",
    "import traceback"
   ]
  },
  {
   "cell_type": "code",
   "execution_count": 114,
   "id": "d626cbfa",
   "metadata": {},
   "outputs": [],
   "source": [
    "from langchain.chat_models import ChatOpenAI"
   ]
  },
  {
   "cell_type": "code",
   "execution_count": 115,
   "id": "28ed6a1d",
   "metadata": {},
   "outputs": [],
   "source": [
    "from dotenv import load_dotenv\n"
   ]
  },
  {
   "cell_type": "code",
   "execution_count": 165,
   "id": "b839b05f",
   "metadata": {},
   "outputs": [],
   "source": [
    "dotenv_path = os.path.abspath(\"../.env\")\n",
    "\n",
    "load_dotenv(dotenv_path=dotenv_path, override=True)\n",
    "KEY=os.getenv(\"OPENAI_API_KEY\")"
   ]
  },
  {
   "cell_type": "code",
   "execution_count": null,
   "id": "2ab5abc4",
   "metadata": {},
   "outputs": [],
   "source": [
    "llm= ChatOpenAI(openai_api_key=KEY,\n",
    "    model_name=\"gpt-4o\",temperature=0.5)"
   ]
  },
  {
   "cell_type": "code",
   "execution_count": 120,
   "id": "2210ffa3",
   "metadata": {},
   "outputs": [],
   "source": [
    "from langchain.llms import OpenAI\n",
    "from langchain.prompts import PromptTemplate\n",
    "from langchain.chains import LLMChain\n",
    "from langchain.chains import SequentialChain\n",
    "from langchain.callbacks import get_openai_callback\n",
    "import PyPDF2"
   ]
  },
  {
   "cell_type": "code",
   "execution_count": 121,
   "id": "a9a312f2",
   "metadata": {},
   "outputs": [],
   "source": [
    "RESPONSE_JSON = {\n",
    "    \"1\": {\n",
    "        \"mcq\": \"multiple choice question\",\n",
    "        \"options\": {\n",
    "            \"a\":\"choice here\",\n",
    "            \"b\":\"choice here\",\n",
    "            \"c\":\"choice here\",\n",
    "            \"d\":\"choice here\",\n",
    "        },\n",
    "        \"correct\":\"correct answer\",\n",
    "    }, \n",
    "     \"2\": {\n",
    "        \"mcq\": \"multiple choice question\",\n",
    "        \"options\": {\n",
    "            \"a\":\"choice here\",\n",
    "            \"b\":\"choice here\",\n",
    "            \"c\":\"choice here\",\n",
    "            \"d\":\"choice here\",\n",
    "        },\n",
    "        \"correct\":\"correct answer\",\n",
    "    }, \n",
    "     \"3\": {\n",
    "        \"mcq\": \"multiple choice question\",\n",
    "        \"options\": {\n",
    "            \"a\":\"choice here\",\n",
    "            \"b\":\"choice here\",\n",
    "            \"c\":\"choice here\",\n",
    "            \"d\":\"choice here\",\n",
    "        },\n",
    "        \"correct\":\"correct answer\",\n",
    "    }, \n",
    "}"
   ]
  },
  {
   "cell_type": "code",
   "execution_count": 122,
   "id": "38d1a8ad",
   "metadata": {},
   "outputs": [],
   "source": [
    "TEMPLATE = \"\"\"\n",
    "\n",
    "{text}\n",
    "\n",
    "You are an expert MCQ creator.Given the above text,it is your job to create a quiz of {number} multiple choice question for {subject} students in {tone} tone.\n",
    "Make sure the questions are not repeated and check all the questions to be conforming the text as well. Make sure to format your response like RESPONSE_JSON below and use it as a guide. Ensure to make {number} MCQs\n",
    "###RESPONE_JSON\n",
    "{response_json}\n",
    "\n",
    "\"\"\"\n"
   ]
  },
  {
   "cell_type": "code",
   "execution_count": 123,
   "id": "352372ce",
   "metadata": {},
   "outputs": [],
   "source": [
    "quiz_generating_prompt=PromptTemplate(input_variables=[\"text\",\"number\",\"subject\",\"tone\",\"response_json\"],\n",
    "                                      template=TEMPLATE\n",
    "                                      )"
   ]
  },
  {
   "cell_type": "code",
   "execution_count": 124,
   "id": "3634ac5a",
   "metadata": {},
   "outputs": [],
   "source": [
    "quiz_chain=LLMChain(llm=llm,\n",
    "                    prompt=quiz_generating_prompt,\n",
    "                    output_key=\"quiz\", \n",
    "                    verbose=True)"
   ]
  },
  {
   "cell_type": "code",
   "execution_count": 125,
   "id": "4c5507be",
   "metadata": {},
   "outputs": [],
   "source": [
    "TEMPLATE2 = \"\"\"\n",
    "You are an expert grammarian and educational reviewer.Given the following MCQ quiz for {subject} students.Ypu need to evaluate  the complexity of  the question and give a complete analysis of the quiz.Onlye use at max 50 words for complexity.\n",
    "if the quiz is not at per with the cognative and analytical of the student,update the quiz question which needs to be changed the tone that us perfectly fits the student ability.\n",
    "Quiz_MCQs:\n",
    "{quiz}\n",
    "\n",
    "Check from an expert English Writer of the above quiz:\n",
    "\"\"\"\n"
   ]
  },
  {
   "cell_type": "code",
   "execution_count": 126,
   "id": "3529ab4a",
   "metadata": {},
   "outputs": [],
   "source": [
    "quiz_evaluating_prompt=PromptTemplate(input_variables=[\"quiz\",\"subject\"],\n",
    "                                      template=TEMPLATE2)"
   ]
  },
  {
   "cell_type": "code",
   "execution_count": 127,
   "id": "73895e56",
   "metadata": {},
   "outputs": [],
   "source": [
    "review_chain=LLMChain(llm=llm,\n",
    "                      prompt=quiz_evaluating_prompt,\n",
    "                      output_key=\"review\",\n",
    "                      verbose=True)"
   ]
  },
  {
   "cell_type": "code",
   "execution_count": 128,
   "id": "797d86dd",
   "metadata": {},
   "outputs": [],
   "source": [
    "generate_evaluate_chain=SequentialChain(chains=[quiz_chain,review_chain],\n",
    "                                        input_variables=[\"text\",\"number\",\"subject\",\"tone\",\"response_json\"],\n",
    "                                        output_variables=[\"quiz\",\"review\"],\n",
    "                                        verbose=True)"
   ]
  },
  {
   "cell_type": "code",
   "execution_count": 129,
   "id": "d541b1ad",
   "metadata": {},
   "outputs": [],
   "source": [
    "file_path=r\"C:\\Users\\UPASHAK GAYEN\\OneDrive\\Desktop\\mcqgen\\data.txt\""
   ]
  },
  {
   "cell_type": "code",
   "execution_count": 130,
   "id": "6af8218d",
   "metadata": {},
   "outputs": [],
   "source": [
    "with open(file_path, \"r\") as file:\n",
    "    TEXT =file.read()"
   ]
  },
  {
   "cell_type": "code",
   "execution_count": 131,
   "id": "0695296a",
   "metadata": {},
   "outputs": [
    {
     "data": {
      "text/plain": [
       "'{\"1\": {\"mcq\": \"multiple choice question\", \"options\": {\"a\": \"choice here\", \"b\": \"choice here\", \"c\": \"choice here\", \"d\": \"choice here\"}, \"correct\": \"correct answer\"}, \"2\": {\"mcq\": \"multiple choice question\", \"options\": {\"a\": \"choice here\", \"b\": \"choice here\", \"c\": \"choice here\", \"d\": \"choice here\"}, \"correct\": \"correct answer\"}, \"3\": {\"mcq\": \"multiple choice question\", \"options\": {\"a\": \"choice here\", \"b\": \"choice here\", \"c\": \"choice here\", \"d\": \"choice here\"}, \"correct\": \"correct answer\"}}'"
      ]
     },
     "execution_count": 131,
     "metadata": {},
     "output_type": "execute_result"
    }
   ],
   "source": [
    "#serializing the Python Dictionary to a JSON-formatted string\n",
    "json.dumps(RESPONSE_JSON)"
   ]
  },
  {
   "cell_type": "code",
   "execution_count": 132,
   "id": "d33f75b6",
   "metadata": {},
   "outputs": [],
   "source": [
    "SUBJECT = \"Machine Learning\"\n",
    "TONE=\"simple\""
   ]
  },
  {
   "cell_type": "code",
   "execution_count": null,
   "id": "703b2e15",
   "metadata": {},
   "outputs": [
    {
     "name": "stderr",
     "output_type": "stream",
     "text": [
      "Error in StdOutCallbackHandler.on_chain_start callback: AttributeError(\"'NoneType' object has no attribute 'get'\")\n",
      "Error in StdOutCallbackHandler.on_chain_start callback: AttributeError(\"'NoneType' object has no attribute 'get'\")\n"
     ]
    },
    {
     "name": "stdout",
     "output_type": "stream",
     "text": [
      "Prompt after formatting:\n",
      "\u001b[32;1m\u001b[1;3m\n",
      "\n",
      "Machine learning approaches are traditionally divided into three broad categories, which correspond to learning paradigms, depending on the nature of the \"signal\" or \"feedback\" available to the learning system:\n",
      "\n",
      "Supervised learning: The computer is presented with example inputs and their desired outputs, given by a \"teacher\", and the goal is to learn a general rule that maps inputs to outputs.\n",
      "Unsupervised learning: No labels are given to the learning algorithm, leaving it on its own to find structure in its input. Unsupervised learning can be a goal in itself (discovering hidden patterns in data) or a means towards an end (feature learning).\n",
      "Reinforcement learning: A computer program interacts with a dynamic environment in which it must perform a certain goal (such as driving a vehicle or playing a game against an opponent). As it navigates its problem space, the program is provided feedback that's analogous to rewards, which it tries to maximise.[5]\n",
      "Although each algorithm has advantages and limitations, no single algorithm works for all problems.[45][46][47]\n",
      "\n",
      "You are an expert MCQ creator.Given the above text,it is your job to create a quiz of 3 multiple choice question for Machine Learning students in simple tone.\n",
      "Make sure the questions are not repeated and check all the questions to be conforming the text as well. Make sure to format your response like RESPONSE_JSON below and use it as a guide. Ensure to make 3 MCQs\n",
      "###RESPONE_JSON\n",
      "{\"1\": {\"mcq\": \"multiple choice question\", \"options\": {\"a\": \"choice here\", \"b\": \"choice here\", \"c\": \"choice here\", \"d\": \"choice here\"}, \"correct\": \"correct answer\"}, \"2\": {\"mcq\": \"multiple choice question\", \"options\": {\"a\": \"choice here\", \"b\": \"choice here\", \"c\": \"choice here\", \"d\": \"choice here\"}, \"correct\": \"correct answer\"}, \"3\": {\"mcq\": \"multiple choice question\", \"options\": {\"a\": \"choice here\", \"b\": \"choice here\", \"c\": \"choice here\", \"d\": \"choice here\"}, \"correct\": \"correct answer\"}}\n",
      "\n",
      "\u001b[0m\n"
     ]
    },
    {
     "name": "stderr",
     "output_type": "stream",
     "text": [
      "Error in StdOutCallbackHandler.on_chain_start callback: AttributeError(\"'NoneType' object has no attribute 'get'\")\n"
     ]
    },
    {
     "name": "stdout",
     "output_type": "stream",
     "text": [
      "\n",
      "\u001b[1m> Finished chain.\u001b[0m\n",
      "Prompt after formatting:\n",
      "\u001b[32;1m\u001b[1;3m\n",
      "You are an expert grammarian and educational reviewer.Given the following MCQ quiz for Machine Learning students.Ypu need to evaluate  the complexity of  the question and give a complete analysis of the quiz.Onlye use at max 50 words for complexity.\n",
      "if the quiz is not at per with the cognative and analytical of the student,update the quiz question which needs to be changed the tone that us perfectly fits the student ability.\n",
      "Quiz_MCQs:\n",
      "```json\n",
      "{\n",
      "  \"1\": {\n",
      "    \"mcq\": \"What is the main goal of supervised learning?\",\n",
      "    \"options\": {\n",
      "      \"a\": \"To discover hidden patterns in data\",\n",
      "      \"b\": \"To interact with a dynamic environment\",\n",
      "      \"c\": \"To learn a general rule that maps inputs to outputs\",\n",
      "      \"d\": \"To perform a certain goal like playing a game\"\n",
      "    },\n",
      "    \"correct\": \"c\"\n",
      "  },\n",
      "  \"2\": {\n",
      "    \"mcq\": \"Which learning paradigm involves the algorithm finding structure in its input without given labels?\",\n",
      "    \"options\": {\n",
      "      \"a\": \"Supervised learning\",\n",
      "      \"b\": \"Unsupervised learning\",\n",
      "      \"c\": \"Reinforcement learning\",\n",
      "      \"d\": \"None of the above\"\n",
      "    },\n",
      "    \"correct\": \"b\"\n",
      "  },\n",
      "  \"3\": {\n",
      "    \"mcq\": \"In which learning approach does a program receive feedback similar to rewards?\",\n",
      "    \"options\": {\n",
      "      \"a\": \"Supervised learning\",\n",
      "      \"b\": \"Unsupervised learning\",\n",
      "      \"c\": \"Reinforcement learning\",\n",
      "      \"d\": \"None of the above\"\n",
      "    },\n",
      "    \"correct\": \"c\"\n",
      "  }\n",
      "}\n",
      "```\n",
      "\n",
      "Check from an expert English Writer of the above quiz:\n",
      "\u001b[0m\n",
      "\n",
      "\u001b[1m> Finished chain.\u001b[0m\n",
      "\n",
      "\u001b[1m> Finished chain.\u001b[0m\n",
      "Response: {'text': 'Machine learning approaches are traditionally divided into three broad categories, which correspond to learning paradigms, depending on the nature of the \"signal\" or \"feedback\" available to the learning system:\\n\\nSupervised learning: The computer is presented with example inputs and their desired outputs, given by a \"teacher\", and the goal is to learn a general rule that maps inputs to outputs.\\nUnsupervised learning: No labels are given to the learning algorithm, leaving it on its own to find structure in its input. Unsupervised learning can be a goal in itself (discovering hidden patterns in data) or a means towards an end (feature learning).\\nReinforcement learning: A computer program interacts with a dynamic environment in which it must perform a certain goal (such as driving a vehicle or playing a game against an opponent). As it navigates its problem space, the program is provided feedback that\\'s analogous to rewards, which it tries to maximise.[5]\\nAlthough each algorithm has advantages and limitations, no single algorithm works for all problems.[45][46][47]', 'number': 3, 'subject': 'Machine Learning', 'tone': 'simple', 'response_json': '{\"1\": {\"mcq\": \"multiple choice question\", \"options\": {\"a\": \"choice here\", \"b\": \"choice here\", \"c\": \"choice here\", \"d\": \"choice here\"}, \"correct\": \"correct answer\"}, \"2\": {\"mcq\": \"multiple choice question\", \"options\": {\"a\": \"choice here\", \"b\": \"choice here\", \"c\": \"choice here\", \"d\": \"choice here\"}, \"correct\": \"correct answer\"}, \"3\": {\"mcq\": \"multiple choice question\", \"options\": {\"a\": \"choice here\", \"b\": \"choice here\", \"c\": \"choice here\", \"d\": \"choice here\"}, \"correct\": \"correct answer\"}}', 'quiz': '```json\\n{\\n  \"1\": {\\n    \"mcq\": \"What is the main goal of supervised learning?\",\\n    \"options\": {\\n      \"a\": \"To discover hidden patterns in data\",\\n      \"b\": \"To interact with a dynamic environment\",\\n      \"c\": \"To learn a general rule that maps inputs to outputs\",\\n      \"d\": \"To perform a certain goal like playing a game\"\\n    },\\n    \"correct\": \"c\"\\n  },\\n  \"2\": {\\n    \"mcq\": \"Which learning paradigm involves the algorithm finding structure in its input without given labels?\",\\n    \"options\": {\\n      \"a\": \"Supervised learning\",\\n      \"b\": \"Unsupervised learning\",\\n      \"c\": \"Reinforcement learning\",\\n      \"d\": \"None of the above\"\\n    },\\n    \"correct\": \"b\"\\n  },\\n  \"3\": {\\n    \"mcq\": \"In which learning approach does a program receive feedback similar to rewards?\",\\n    \"options\": {\\n      \"a\": \"Supervised learning\",\\n      \"b\": \"Unsupervised learning\",\\n      \"c\": \"Reinforcement learning\",\\n      \"d\": \"None of the above\"\\n    },\\n    \"correct\": \"c\"\\n  }\\n}\\n```', 'review': 'The quiz is moderately complex and appropriate for students with a basic understanding of machine learning concepts. It effectively assesses foundational knowledge of learning paradigms. However, the language could be slightly more precise for clarity. \\n\\nRevised Question 1:\\n\"What is the primary objective of supervised learning?\"\\n\\nRevised Question 2:\\n\"Which learning paradigm involves identifying patterns in data without labeled examples?\"'}\n",
      "Type: <class 'dict'>\n"
     ]
    }
   ],
   "source": [
    "with get_openai_callback() as cb:\n",
    "        response = generate_evaluate_chain.invoke({\n",
    "            \"text\": TEXT,\n",
    "            \"number\": 3,\n",
    "            \"subject\": SUBJECT,\n",
    "            \"tone\": TONE,\n",
    "            \"response_json\": json.dumps(RESPONSE_JSON)\n",
    "        })\n",
    "        print(\"Response:\", response)\n",
    "        print(\"Type:\", type(response))"
   ]
  },
  {
   "cell_type": "code",
   "execution_count": 159,
   "id": "5c2a05e4",
   "metadata": {},
   "outputs": [
    {
     "data": {
      "text/plain": [
       "{'text': 'Machine learning approaches are traditionally divided into three broad categories, which correspond to learning paradigms, depending on the nature of the \"signal\" or \"feedback\" available to the learning system:\\n\\nSupervised learning: The computer is presented with example inputs and their desired outputs, given by a \"teacher\", and the goal is to learn a general rule that maps inputs to outputs.\\nUnsupervised learning: No labels are given to the learning algorithm, leaving it on its own to find structure in its input. Unsupervised learning can be a goal in itself (discovering hidden patterns in data) or a means towards an end (feature learning).\\nReinforcement learning: A computer program interacts with a dynamic environment in which it must perform a certain goal (such as driving a vehicle or playing a game against an opponent). As it navigates its problem space, the program is provided feedback that\\'s analogous to rewards, which it tries to maximise.[5]\\nAlthough each algorithm has advantages and limitations, no single algorithm works for all problems.[45][46][47]',\n",
       " 'number': 3,\n",
       " 'subject': 'Machine Learning',\n",
       " 'tone': 'simple',\n",
       " 'response_json': '{\"1\": {\"mcq\": \"multiple choice question\", \"options\": {\"a\": \"choice here\", \"b\": \"choice here\", \"c\": \"choice here\", \"d\": \"choice here\"}, \"correct\": \"correct answer\"}, \"2\": {\"mcq\": \"multiple choice question\", \"options\": {\"a\": \"choice here\", \"b\": \"choice here\", \"c\": \"choice here\", \"d\": \"choice here\"}, \"correct\": \"correct answer\"}, \"3\": {\"mcq\": \"multiple choice question\", \"options\": {\"a\": \"choice here\", \"b\": \"choice here\", \"c\": \"choice here\", \"d\": \"choice here\"}, \"correct\": \"correct answer\"}}',\n",
       " 'quiz': '```json\\n{\\n  \"1\": {\\n    \"mcq\": \"What is the main goal of supervised learning?\",\\n    \"options\": {\\n      \"a\": \"To discover hidden patterns in data\",\\n      \"b\": \"To interact with a dynamic environment\",\\n      \"c\": \"To learn a general rule that maps inputs to outputs\",\\n      \"d\": \"To perform a certain goal like playing a game\"\\n    },\\n    \"correct\": \"c\"\\n  },\\n  \"2\": {\\n    \"mcq\": \"Which learning paradigm involves the algorithm finding structure in its input without given labels?\",\\n    \"options\": {\\n      \"a\": \"Supervised learning\",\\n      \"b\": \"Unsupervised learning\",\\n      \"c\": \"Reinforcement learning\",\\n      \"d\": \"None of the above\"\\n    },\\n    \"correct\": \"b\"\\n  },\\n  \"3\": {\\n    \"mcq\": \"In which learning approach does a program receive feedback similar to rewards?\",\\n    \"options\": {\\n      \"a\": \"Supervised learning\",\\n      \"b\": \"Unsupervised learning\",\\n      \"c\": \"Reinforcement learning\",\\n      \"d\": \"None of the above\"\\n    },\\n    \"correct\": \"c\"\\n  }\\n}\\n```',\n",
       " 'review': 'The quiz is moderately complex and appropriate for students with a basic understanding of machine learning concepts. It effectively assesses foundational knowledge of learning paradigms. However, the language could be slightly more precise for clarity. \\n\\nRevised Question 1:\\n\"What is the primary objective of supervised learning?\"\\n\\nRevised Question 2:\\n\"Which learning paradigm involves identifying patterns in data without labeled examples?\"'}"
      ]
     },
     "execution_count": 159,
     "metadata": {},
     "output_type": "execute_result"
    }
   ],
   "source": [
    "response"
   ]
  },
  {
   "cell_type": "code",
   "execution_count": 160,
   "id": "cd7948ae",
   "metadata": {},
   "outputs": [
    {
     "data": {
      "text/plain": [
       "'```json\\n{\\n  \"1\": {\\n    \"mcq\": \"What is the main goal of supervised learning?\",\\n    \"options\": {\\n      \"a\": \"To discover hidden patterns in data\",\\n      \"b\": \"To interact with a dynamic environment\",\\n      \"c\": \"To learn a general rule that maps inputs to outputs\",\\n      \"d\": \"To perform a certain goal like playing a game\"\\n    },\\n    \"correct\": \"c\"\\n  },\\n  \"2\": {\\n    \"mcq\": \"Which learning paradigm involves the algorithm finding structure in its input without given labels?\",\\n    \"options\": {\\n      \"a\": \"Supervised learning\",\\n      \"b\": \"Unsupervised learning\",\\n      \"c\": \"Reinforcement learning\",\\n      \"d\": \"None of the above\"\\n    },\\n    \"correct\": \"b\"\\n  },\\n  \"3\": {\\n    \"mcq\": \"In which learning approach does a program receive feedback similar to rewards?\",\\n    \"options\": {\\n      \"a\": \"Supervised learning\",\\n      \"b\": \"Unsupervised learning\",\\n      \"c\": \"Reinforcement learning\",\\n      \"d\": \"None of the above\"\\n    },\\n    \"correct\": \"c\"\\n  }\\n}\\n```'"
      ]
     },
     "execution_count": 160,
     "metadata": {},
     "output_type": "execute_result"
    }
   ],
   "source": [
    "response.get(\"quiz\")"
   ]
  },
  {
   "cell_type": "code",
   "execution_count": null,
   "id": "265f9f12",
   "metadata": {},
   "outputs": [
    {
     "name": "stdout",
     "output_type": "stream",
     "text": [
      "{\n",
      "  \"1\": {\n",
      "    \"mcq\": \"What is the main goal of supervised learning?\",\n",
      "    \"options\": {\n",
      "      \"a\": \"To discover hidden patterns in data\",\n",
      "      \"b\": \"To interact with a dynamic environment\",\n",
      "      \"c\": \"To learn a general rule that maps inputs to outputs\",\n",
      "      \"d\": \"To perform a certain goal like playing a game\"\n",
      "    },\n",
      "    \"correct\": \"c\"\n",
      "  },\n",
      "  \"2\": {\n",
      "    \"mcq\": \"Which learning paradigm involves the algorithm finding structure in its input without given labels?\",\n",
      "    \"options\": {\n",
      "      \"a\": \"Supervised learning\",\n",
      "      \"b\": \"Unsupervised learning\",\n",
      "      \"c\": \"Reinforcement learning\",\n",
      "      \"d\": \"None of the above\"\n",
      "    },\n",
      "    \"correct\": \"b\"\n",
      "  },\n",
      "  \"3\": {\n",
      "    \"mcq\": \"In which learning approach does a program receive feedback similar to rewards?\",\n",
      "    \"options\": {\n",
      "      \"a\": \"Supervised learning\",\n",
      "      \"b\": \"Unsupervised learning\",\n",
      "      \"c\": \"Reinforcement learning\",\n",
      "      \"d\": \"None of the above\"\n",
      "    },\n",
      "    \"correct\": \"c\"\n",
      "  }\n",
      "}\n"
     ]
    }
   ],
   "source": [
    "import json\n",
    "import re\n",
    "\n",
    "quiz_raw = response.get('quiz')  \n",
    "\n",
    "quiz_cleaned = re.sub(r\"```json|```\", \"\", quiz_raw).strip()\n",
    "\n",
    "quiz_dict = json.loads(quiz_cleaned)\n",
    "\n",
    "print(json.dumps(quiz_dict, indent=2))\n"
   ]
  },
  {
   "cell_type": "code",
   "execution_count": null,
   "id": "77adf81d",
   "metadata": {},
   "outputs": [
    {
     "data": {
      "text/html": [
       "<div>\n",
       "<style scoped>\n",
       "    .dataframe tbody tr th:only-of-type {\n",
       "        vertical-align: middle;\n",
       "    }\n",
       "\n",
       "    .dataframe tbody tr th {\n",
       "        vertical-align: top;\n",
       "    }\n",
       "\n",
       "    .dataframe thead th {\n",
       "        text-align: right;\n",
       "    }\n",
       "</style>\n",
       "<table border=\"1\" class=\"dataframe\">\n",
       "  <thead>\n",
       "    <tr style=\"text-align: right;\">\n",
       "      <th></th>\n",
       "      <th>MCQ</th>\n",
       "      <th>Options</th>\n",
       "      <th>Correct Answer</th>\n",
       "    </tr>\n",
       "  </thead>\n",
       "  <tbody>\n",
       "    <tr>\n",
       "      <th>0</th>\n",
       "      <td>What is the main goal of supervised learning?</td>\n",
       "      <td>a: To discover hidden patterns in data | b: To...</td>\n",
       "      <td>c</td>\n",
       "    </tr>\n",
       "    <tr>\n",
       "      <th>1</th>\n",
       "      <td>Which learning paradigm involves the algorithm...</td>\n",
       "      <td>a: Supervised learning | b: Unsupervised learn...</td>\n",
       "      <td>b</td>\n",
       "    </tr>\n",
       "    <tr>\n",
       "      <th>2</th>\n",
       "      <td>In which learning approach does a program rece...</td>\n",
       "      <td>a: Supervised learning | b: Unsupervised learn...</td>\n",
       "      <td>c</td>\n",
       "    </tr>\n",
       "  </tbody>\n",
       "</table>\n",
       "</div>"
      ],
      "text/plain": [
       "                                                 MCQ  \\\n",
       "0      What is the main goal of supervised learning?   \n",
       "1  Which learning paradigm involves the algorithm...   \n",
       "2  In which learning approach does a program rece...   \n",
       "\n",
       "                                             Options Correct Answer  \n",
       "0  a: To discover hidden patterns in data | b: To...              c  \n",
       "1  a: Supervised learning | b: Unsupervised learn...              b  \n",
       "2  a: Supervised learning | b: Unsupervised learn...              c  "
      ]
     },
     "execution_count": 162,
     "metadata": {},
     "output_type": "execute_result"
    }
   ],
   "source": [
    "data = []\n",
    "for q_no, q_data in quiz_dict.items():\n",
    "    mcq= q_data[\"mcq\"]\n",
    "    options = \" | \".join([\n",
    "        f\"{key}: {value}\" for key, value in q_data[\"options\"].items()\n",
    "    ])\n",
    "    correct = q_data[\"correct\"]\n",
    "    data.append({\"MCQ\": mcq, \"Options\": options, \"Correct Answer\": correct  })\n",
    "\n",
    "df = pd.DataFrame(data)\n",
    "df"
   ]
  },
  {
   "cell_type": "code",
   "execution_count": 164,
   "id": "d85dfd71",
   "metadata": {},
   "outputs": [],
   "source": [
    "df.to_csv(\"quiz.csv\", index=False)"
   ]
  },
  {
   "cell_type": "code",
   "execution_count": null,
   "id": "df70e48d",
   "metadata": {},
   "outputs": [],
   "source": []
  }
 ],
 "metadata": {
  "kernelspec": {
   "display_name": "Python 3",
   "language": "python",
   "name": "python3"
  },
  "language_info": {
   "codemirror_mode": {
    "name": "ipython",
    "version": 3
   },
   "file_extension": ".py",
   "mimetype": "text/x-python",
   "name": "python",
   "nbconvert_exporter": "python",
   "pygments_lexer": "ipython3",
   "version": "3.8.20"
  }
 },
 "nbformat": 4,
 "nbformat_minor": 5
}
